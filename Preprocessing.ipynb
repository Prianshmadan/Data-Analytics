{
 "cells": [
  {
   "cell_type": "code",
   "execution_count": 29,
   "metadata": {},
   "outputs": [
    {
     "name": "stdout",
     "output_type": "stream",
     "text": [
      "Columns dropped and files updated successfully!\n"
     ]
    }
   ],
   "source": [
    "df_append = pd.DataFrame()\n",
    "\n",
    "\n",
    "csv_files = ['DSScoreTerm1.csv', 'MathScoreTerm1.csv', 'PhysicsScoreTerm1.csv']\n",
    "\n",
    "\n",
    "# for file in csv_files:\n",
    "#     df_temp = pd.read_csv(file)  \n",
    "#     df_append = df_append.append(df_temp, ignore_index=True) \n",
    "\n",
    "\n",
    "columns_to_drop = ['Name', 'Ethinicity']\n",
    "\n",
    "for file in csv_files:\n",
    "    df = pd.read_csv(file)\n",
    "    df_dropped = df.drop(columns=columns_to_drop, errors='ignore')  # 'errors' parameter handles non-existing columns\n",
    "    df_dropped.to_csv(file, index=False)  # You can overwrite the original file or use a new file name\n",
    "    \n",
    "  \n",
    "print(\"Columns dropped and files updated successfully!\")\n"
   ]
  },
  {
   "cell_type": "code",
   "execution_count": 48,
   "metadata": {},
   "outputs": [
    {
     "name": "stdout",
     "output_type": "stream",
     "text": [
      "       DS  Age  Sex   ID  Maths  Physics\n",
      "0    82.0   18    1    1   88.0     84.0\n",
      "1    79.0   19    1    2   85.0     81.0\n",
      "2    39.0   19    1    3   45.0     41.0\n",
      "3    76.0   18    1    4   82.0     78.0\n",
      "4    76.0   18    2    5   82.0     78.0\n",
      "..    ...  ...  ...  ...    ...      ...\n",
      "594  39.0   19    2  595   45.0     41.0\n",
      "595  69.0   18    1  596   75.0     71.0\n",
      "596  47.0   20    1  597   53.0     49.0\n",
      "597  69.0   20    1  598   75.0     71.0\n",
      "598   0.0   19    1  599   88.0     69.0\n",
      "\n",
      "[599 rows x 6 columns]\n"
     ]
    }
   ],
   "source": [
    "\n",
    "import numpy as np \n",
    "import pandas as pd\n",
    "\n",
    "data1= pd.read_csv(\"DSScoreTerm1.csv\")\n",
    "data2= pd.read_csv(\"MathScoreTerm1.csv\")\n",
    "data3= pd.read_csv(\"PhysicsScoreTerm1.csv\")\n",
    "ds = pd.DataFrame(data1)\n",
    "maths= pd.DataFrame(data2)\n",
    "physics=pd.DataFrame(data3)\n",
    "maths.fillna(0, inplace=True)\n",
    "ds.fillna(0, inplace=True)\n",
    "physics.fillna(0, inplace=True)\n",
    "\n",
    "\n",
    "data=pd.merge(ds,maths,on=['Sex','Age','ID'])\n",
    "data=pd.merge(data,physics,on=['Sex','Age','ID'])\n",
    "\n",
    "\n",
    "\n",
    "data.rename(columns = {'Score_x':'DS', 'Score_y':'Maths','Score':'Physics'}, inplace = True)\n",
    "columns_to_drop = ['Subject_x', 'Subject_y', 'Subject']\n",
    "data.drop(columns=columns_to_drop, inplace=True)\n",
    "# print(data)                                                                                \n",
    "# d[\"Age\"].fillna(int(d['Age'].mean()),inplace=True)\n",
    "# d['Salary'].fillna(int(d['Salary'].mean()),inplace=True)\n",
    "\n",
    "\n",
    "# print(\"YES=1\\t\\tNO=0\\nFRANCE=0\\tSPAIN=1\\t\\tGERMANY=2\")\n",
    "# m= d.replace({'Country':{'France' : 0, 'Spain' : 1,'Germany' : 2 }})      \n",
    "p= data.replace({'Sex':{'M' : 1, 'F' : 2}})  \n",
    "print(p)\n",
    "p.to_csv(\"ScoreFinal.csv\", index=False)"
   ]
  },
  {
   "cell_type": "code",
   "execution_count": 49,
   "metadata": {},
   "outputs": [],
   "source": [
    "\n",
    "ethnicity_mapping = {'Asian': 1, 'African': 2, 'European': 3, 'Other': 4}\n",
    "merged_df['Ethnicity'] = merged_df['Ethnicity'].map(ethnicity_mapping)\n",
    "\n",
    "for subject in ['Math', 'DS', 'Physics']:\n",
    "    merged_df[subject].fillna(merged_df[subject].mean(), inplace=True)\n",
    "\n"
   ]
  }
 ],
 "metadata": {
  "kernelspec": {
   "display_name": "Python 3.10.2 64-bit",
   "language": "python",
   "name": "python3"
  },
  "language_info": {
   "codemirror_mode": {
    "name": "ipython",
    "version": 3
   },
   "file_extension": ".py",
   "mimetype": "text/x-python",
   "name": "python",
   "nbconvert_exporter": "python",
   "pygments_lexer": "ipython3",
   "version": "3.10.2"
  },
  "orig_nbformat": 4,
  "vscode": {
   "interpreter": {
    "hash": "fedcfe486e31cdc1583648fdaad6405520ad793040ca29481e10ac6adfa828b2"
   }
  }
 },
 "nbformat": 4,
 "nbformat_minor": 2
}
